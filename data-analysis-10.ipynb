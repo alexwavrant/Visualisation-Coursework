{
 "cells": [
  {
   "cell_type": "code",
   "execution_count": 1,
   "metadata": {
    "collapsed": true
   },
   "outputs": [],
   "source": [
    "import pandas as pd\n",
    "import matplotlib.pyplot as plt"
   ]
  },
  {
   "cell_type": "code",
   "execution_count": 2,
   "outputs": [
    {
     "data": {
      "text/plain": "                                              Question Segment Type  \\\n0    You open ur phone and have a notif badge on in...       Mobile   \n1    You open ur phone and have a notif badge on in...       Mobile   \n2    You open ur phone and have a notif badge on in...       Mobile   \n3    You open ur phone and have a notif badge on in...       Mobile   \n4    You open ur phone and have a notif badge on in...          Web   \n..                                                 ...          ...   \n511  You open ur phone and have a notif badge on in...       Custom   \n512  You open ur phone and have a notif badge on in...       Custom   \n513  You open ur phone and have a notif badge on in...       Custom   \n514  You open ur phone and have a notif badge on in...       Custom   \n515  You open ur phone and have a notif badge on in...       Custom   \n\n               Segment Description     Answer  Count  Percentage  \n0               Mobile respondents  Instagram   2559       0.273  \n1               Mobile respondents   Facebook   1182       0.126  \n2               Mobile respondents   Snapchat   5423       0.579  \n3               Mobile respondents   Linkedin    210       0.022  \n4            Web-based respondents  Instagram     30       0.256  \n..                             ...        ...    ...         ...  \n511  your parents make?  $50K-$90K   Linkedin      4       0.015  \n512             Mac or PC? Other 🐧  Instagram      5       0.217  \n513             Mac or PC? Other 🐧   Facebook      6       0.261  \n514             Mac or PC? Other 🐧   Snapchat     11       0.478  \n515             Mac or PC? Other 🐧   Linkedin      1       0.043  \n\n[516 rows x 6 columns]",
      "text/html": "<div>\n<style scoped>\n    .dataframe tbody tr th:only-of-type {\n        vertical-align: middle;\n    }\n\n    .dataframe tbody tr th {\n        vertical-align: top;\n    }\n\n    .dataframe thead th {\n        text-align: right;\n    }\n</style>\n<table border=\"1\" class=\"dataframe\">\n  <thead>\n    <tr style=\"text-align: right;\">\n      <th></th>\n      <th>Question</th>\n      <th>Segment Type</th>\n      <th>Segment Description</th>\n      <th>Answer</th>\n      <th>Count</th>\n      <th>Percentage</th>\n    </tr>\n  </thead>\n  <tbody>\n    <tr>\n      <th>0</th>\n      <td>You open ur phone and have a notif badge on in...</td>\n      <td>Mobile</td>\n      <td>Mobile respondents</td>\n      <td>Instagram</td>\n      <td>2559</td>\n      <td>0.273</td>\n    </tr>\n    <tr>\n      <th>1</th>\n      <td>You open ur phone and have a notif badge on in...</td>\n      <td>Mobile</td>\n      <td>Mobile respondents</td>\n      <td>Facebook</td>\n      <td>1182</td>\n      <td>0.126</td>\n    </tr>\n    <tr>\n      <th>2</th>\n      <td>You open ur phone and have a notif badge on in...</td>\n      <td>Mobile</td>\n      <td>Mobile respondents</td>\n      <td>Snapchat</td>\n      <td>5423</td>\n      <td>0.579</td>\n    </tr>\n    <tr>\n      <th>3</th>\n      <td>You open ur phone and have a notif badge on in...</td>\n      <td>Mobile</td>\n      <td>Mobile respondents</td>\n      <td>Linkedin</td>\n      <td>210</td>\n      <td>0.022</td>\n    </tr>\n    <tr>\n      <th>4</th>\n      <td>You open ur phone and have a notif badge on in...</td>\n      <td>Web</td>\n      <td>Web-based respondents</td>\n      <td>Instagram</td>\n      <td>30</td>\n      <td>0.256</td>\n    </tr>\n    <tr>\n      <th>...</th>\n      <td>...</td>\n      <td>...</td>\n      <td>...</td>\n      <td>...</td>\n      <td>...</td>\n      <td>...</td>\n    </tr>\n    <tr>\n      <th>511</th>\n      <td>You open ur phone and have a notif badge on in...</td>\n      <td>Custom</td>\n      <td>your parents make?  $50K-$90K</td>\n      <td>Linkedin</td>\n      <td>4</td>\n      <td>0.015</td>\n    </tr>\n    <tr>\n      <th>512</th>\n      <td>You open ur phone and have a notif badge on in...</td>\n      <td>Custom</td>\n      <td>Mac or PC? Other 🐧</td>\n      <td>Instagram</td>\n      <td>5</td>\n      <td>0.217</td>\n    </tr>\n    <tr>\n      <th>513</th>\n      <td>You open ur phone and have a notif badge on in...</td>\n      <td>Custom</td>\n      <td>Mac or PC? Other 🐧</td>\n      <td>Facebook</td>\n      <td>6</td>\n      <td>0.261</td>\n    </tr>\n    <tr>\n      <th>514</th>\n      <td>You open ur phone and have a notif badge on in...</td>\n      <td>Custom</td>\n      <td>Mac or PC? Other 🐧</td>\n      <td>Snapchat</td>\n      <td>11</td>\n      <td>0.478</td>\n    </tr>\n    <tr>\n      <th>515</th>\n      <td>You open ur phone and have a notif badge on in...</td>\n      <td>Custom</td>\n      <td>Mac or PC? Other 🐧</td>\n      <td>Linkedin</td>\n      <td>1</td>\n      <td>0.043</td>\n    </tr>\n  </tbody>\n</table>\n<p>516 rows × 6 columns</p>\n</div>"
     },
     "execution_count": 2,
     "metadata": {},
     "output_type": "execute_result"
    }
   ],
   "source": [
    "df = pd.read_csv('data/WhatsgoodlyData-10.csv')\n",
    "df"
   ],
   "metadata": {
    "collapsed": false
   }
  },
  {
   "cell_type": "code",
   "execution_count": 3,
   "outputs": [
    {
     "data": {
      "text/plain": "array(['You open ur phone and have a notif badge on instagram, facebook, snapchat, and linkedin...which do you click first?'],\n      dtype=object)"
     },
     "execution_count": 3,
     "metadata": {},
     "output_type": "execute_result"
    }
   ],
   "source": [
    "df.Question.unique()"
   ],
   "metadata": {
    "collapsed": false
   }
  },
  {
   "cell_type": "code",
   "execution_count": null,
   "outputs": [],
   "source": [],
   "metadata": {
    "collapsed": false
   }
  }
 ],
 "metadata": {
  "kernelspec": {
   "display_name": "Python 3",
   "language": "python",
   "name": "python3"
  },
  "language_info": {
   "codemirror_mode": {
    "name": "ipython",
    "version": 2
   },
   "file_extension": ".py",
   "mimetype": "text/x-python",
   "name": "python",
   "nbconvert_exporter": "python",
   "pygments_lexer": "ipython2",
   "version": "2.7.6"
  }
 },
 "nbformat": 4,
 "nbformat_minor": 0
}
